{
 "cells": [
  {
   "cell_type": "code",
   "execution_count": 1,
   "metadata": {},
   "outputs": [
    {
     "name": "stderr",
     "output_type": "stream",
     "text": [
      "2023-12-04 11:26:35.471116: I tensorflow/core/util/port.cc:113] oneDNN custom operations are on. You may see slightly different numerical results due to floating-point round-off errors from different computation orders. To turn them off, set the environment variable `TF_ENABLE_ONEDNN_OPTS=0`.\n",
      "2023-12-04 11:26:35.472545: I external/local_tsl/tsl/cuda/cudart_stub.cc:31] Could not find cuda drivers on your machine, GPU will not be used.\n",
      "2023-12-04 11:26:35.491769: E external/local_xla/xla/stream_executor/cuda/cuda_dnn.cc:9261] Unable to register cuDNN factory: Attempting to register factory for plugin cuDNN when one has already been registered\n",
      "2023-12-04 11:26:35.491786: E external/local_xla/xla/stream_executor/cuda/cuda_fft.cc:607] Unable to register cuFFT factory: Attempting to register factory for plugin cuFFT when one has already been registered\n",
      "2023-12-04 11:26:35.492406: E external/local_xla/xla/stream_executor/cuda/cuda_blas.cc:1515] Unable to register cuBLAS factory: Attempting to register factory for plugin cuBLAS when one has already been registered\n",
      "2023-12-04 11:26:35.495837: I external/local_tsl/tsl/cuda/cudart_stub.cc:31] Could not find cuda drivers on your machine, GPU will not be used.\n",
      "2023-12-04 11:26:35.496188: I tensorflow/core/platform/cpu_feature_guard.cc:182] This TensorFlow binary is optimized to use available CPU instructions in performance-critical operations.\n",
      "To enable the following instructions: AVX2 AVX_VNNI FMA, in other operations, rebuild TensorFlow with the appropriate compiler flags.\n",
      "2023-12-04 11:26:35.874168: W tensorflow/compiler/tf2tensorrt/utils/py_utils.cc:38] TF-TRT Warning: Could not find TensorRT\n"
     ]
    },
    {
     "name": "stdout",
     "output_type": "stream",
     "text": [
      "--------------------------------\n",
      "STDOUT: EXEC @predict\n",
      "result[0]: hal.buffer_view\n",
      "1x10xf32=[0 0 0 0 1 0 0 0 0 0]\n",
      "\n",
      "--------------------------------\n",
      "STDOUT: EXEC @predict\n",
      "result[0]: hal.buffer_view\n",
      "1x10xf32=[0 0 0 0 0 0 0 0 1 0]\n",
      "\n",
      "--------------------------------\n",
      "STDOUT: EXEC @predict\n",
      "result[0]: hal.buffer_view\n",
      "1x10xf32=[0 0 0 0 0 0 0 0 0 1]\n",
      "\n"
     ]
    },
    {
     "data": {
      "image/png": "[encoded data removed]",
      "text/plain": [
       "<Figure size 2000x200 with 10 Axes>"
      ]
     },
     "metadata": {},
     "output_type": "display_data"
    }
   ],
   "source": [
    "import matplotlib.pyplot as plt\n",
    "from tensorflow.keras.datasets import mnist\n",
    "import numpy as np\n",
    "import subprocess\n",
    "# load mnist dataset\n",
    "(train_images, train_labels), _ = mnist.load_data()\n",
    "\n",
    "SHELL_PATH = '/home/cluster/workspace/PLLAB/DeployModel2RISCV/run.sh'\n",
    "VMFB_NAME = 'minst_model.mlir.vmfb'\n",
    "PREFIX_TENSOR_DIM = '1x28x28x1xf32='\n",
    "FUNCTION_NAME = 'predict'\n",
    "\n",
    "fig, axes = plt.subplots(1, 10, figsize=(20, 2))\n",
    "target_digits = [4,8,9]\n",
    "for digit in target_digits:\n",
    "    print('--------------------------------')\n",
    "    index = np.where(train_labels == digit)[0][0]\n",
    "    flattened_arr = train_images[index].flatten()\n",
    "    flattened_arr = \",\".join(str(num) for num in flattened_arr)\n",
    "    flattened_arr = PREFIX_TENSOR_DIM + flattened_arr\n",
    "    result = subprocess.run([SHELL_PATH, VMFB_NAME, FUNCTION_NAME,flattened_arr], capture_output=True, text=True)\n",
    "    print(\"STDOUT:\", result.stdout)\n",
    "\n",
    "    axes[digit].imshow(train_images[index], cmap='gray')\n",
    "    axes[digit].set_title(f\"Digit: {digit}\")\n",
    "    axes[digit].axis('off')\n",
    "    \n",
    "plt.tight_layout()\n",
    "plt.show()\n",
    "\n",
    "# target shape 1x28x28x1xf32"
   ]
  },
  {
   "cell_type": "code",
   "execution_count": null,
   "metadata": {},
   "outputs": [],
   "source": []
  }
 ],
 "metadata": {
  "kernelspec": {
   "display_name": "Python 3",
   "language": "python",
   "name": "python3"
  },
  "language_info": {
   "codemirror_mode": {
    "name": "ipython",
    "version": 3
   },
   "file_extension": ".py",
   "mimetype": "text/x-python",
   "name": "python",
   "nbconvert_exporter": "python",
   "pygments_lexer": "ipython3",
   "version": "3.10.12"
  }
 },
 "nbformat": 4,
 "nbformat_minor": 2
}
